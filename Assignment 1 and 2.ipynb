{
 "cells": [
  {
   "cell_type": "code",
   "execution_count": 1,
   "id": "d0f02249",
   "metadata": {},
   "outputs": [
    {
     "name": "stdout",
     "output_type": "stream",
     "text": [
      "Data types and object identities:\n",
      "Integer: <class 'int'> 140707452785576\n",
      "Float: <class 'float'> 2562959931664\n",
      "String: <class 'str'> 2562979805040\n",
      "List: <class 'list'> 2562980415040\n",
      "Tuple: <class 'tuple'> 2562979955648\n",
      "Dictionary: <class 'dict'> 2562979657024\n"
     ]
    }
   ],
   "source": [
    "integer_var = 5\n",
    "float_var = 3.14\n",
    "string_var = \"Hello, world!\"\n",
    "list_var = [1, 2, 3]\n",
    "tuple_var = (1, 2, 3)\n",
    "dictionary_var = {'a': 1, 'b': 2}\n",
    "\n",
    "print(\"Data types and object identities:\")\n",
    "print(\"Integer:\", type(integer_var), id(integer_var))\n",
    "print(\"Float:\", type(float_var), id(float_var))\n",
    "print(\"String:\", type(string_var), id(string_var))\n",
    "print(\"List:\", type(list_var), id(list_var))\n",
    "print(\"Tuple:\", type(tuple_var), id(tuple_var))\n",
    "print(\"Dictionary:\", type(dictionary_var), id(dictionary_var))"
   ]
  },
  {
   "cell_type": "code",
   "execution_count": 2,
   "id": "12ebbcf9",
   "metadata": {},
   "outputs": [
    {
     "name": "stdout",
     "output_type": "stream",
     "text": [
      "Enter the first number: 4\n",
      "Enter the second number: 3\n",
      "Enter the third number: 7\n",
      "The average of 4.0 , 3.0 , and 7.0 is: 4.666666666666667\n"
     ]
    }
   ],
   "source": [
    "num1 = float(input(\"Enter the first number: \"))\n",
    "num2 = float(input(\"Enter the second number: \"))\n",
    "num3 = float(input(\"Enter the third number: \"))\n",
    "\n",
    "average = (num1 + num2 + num3) / 3\n",
    "\n",
    "print(\"The average of\", num1, \",\", num2, \", and\", num3, \"is:\", average)\n"
   ]
  },
  {
   "cell_type": "code",
   "execution_count": 3,
   "id": "1084ae77",
   "metadata": {},
   "outputs": [
    {
     "name": "stdout",
     "output_type": "stream",
     "text": [
      "Enter the length of side a: 7\n",
      "Enter the length of side b: 3\n",
      "Enter the length of side c: 9\n",
      "The area of the triangle with sides 7.0 , 3.0 , and 9.0 is: 8.78564169540279\n"
     ]
    }
   ],
   "source": [
    "import math\n",
    "\n",
    "a = float(input(\"Enter the length of side a: \"))\n",
    "b = float(input(\"Enter the length of side b: \"))\n",
    "c = float(input(\"Enter the length of side c: \"))\n",
    "\n",
    "s = (a+b+c) / 2\n",
    "\n",
    "area = math.sqrt(s * (s - a) * (s - b) * (s - c))\n",
    "\n",
    "print(\"The area of the triangle with sides\", a, \",\", b, \", and\", c, \"is:\", area)\n"
   ]
  },
  {
   "cell_type": "code",
   "execution_count": 6,
   "id": "7933a857",
   "metadata": {},
   "outputs": [
    {
     "name": "stdout",
     "output_type": "stream",
     "text": [
      "Enter marks for subject : 40\n",
      "Enter marks for subject : 50\n",
      "Enter marks for subject : 60\n",
      "Enter marks for subject : 70\n",
      "Enter marks for subject : 80\n",
      "Pass\n"
     ]
    }
   ],
   "source": [
    "marks = []\n",
    "for i in range(5):\n",
    "    mark = int(input(\"Enter marks for subject : \"))\n",
    "    marks.append(mark)\n",
    "\n",
    "totalMarks = sum(marks)\n",
    "\n",
    "percentage = (totalMarks / 500) * 100\n",
    "\n",
    "if percentage >= 40:\n",
    "    print(\"Pass\")\n",
    "else:\n",
    "    print(\"Fail\")\n"
   ]
  },
  {
   "cell_type": "code",
   "execution_count": 9,
   "id": "f56602db",
   "metadata": {},
   "outputs": [
    {
     "name": "stdout",
     "output_type": "stream",
     "text": [
      "Enter a year: 1991\n",
      "1991 is not a leap year\n"
     ]
    }
   ],
   "source": [
    "year = int(input(\"Enter a year: \"))\n",
    "\n",
    "if year % 4 == 0:\n",
    "    if year % 100 == 0:\n",
    "        if year % 400 == 0:\n",
    "            print(f\"{year} is a leap year\")\n",
    "        else:\n",
    "            print(f\"{year} is not a leap year\")\n",
    "    else:\n",
    "        print(f\"{year} is a leap year\")\n",
    "else:\n",
    "    print(f\"{year} is not a leap year\")\n"
   ]
  }
 ],
 "metadata": {
  "kernelspec": {
   "display_name": "Python 3 (ipykernel)",
   "language": "python",
   "name": "python3"
  },
  "language_info": {
   "codemirror_mode": {
    "name": "ipython",
    "version": 3
   },
   "file_extension": ".py",
   "mimetype": "text/x-python",
   "name": "python",
   "nbconvert_exporter": "python",
   "pygments_lexer": "ipython3",
   "version": "3.11.5"
  }
 },
 "nbformat": 4,
 "nbformat_minor": 5
}
